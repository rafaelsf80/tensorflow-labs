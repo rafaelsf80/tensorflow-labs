{
 "cells": [
  {
   "cell_type": "markdown",
   "metadata": {},
   "source": [
    "# NOTEBOOK 4 Collaborative Filtering for Movie Recommendations\n",
    "\n",
    "Refer to this [Keras Tutorial](https://keras.io/examples/structured_data/collaborative_filtering_movielens/).\n",
    "\n",
    "> Mandatory to install Keras 3"
   ]
  }
 ],
 "metadata": {
  "language_info": {
   "name": "python"
  }
 },
 "nbformat": 4,
 "nbformat_minor": 2
}
